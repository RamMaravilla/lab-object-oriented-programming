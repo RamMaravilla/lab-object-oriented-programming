{
 "cells": [
  {
   "cell_type": "markdown",
   "metadata": {},
   "source": [
    "# Before your start:\n",
    "- Read the README.md file\n",
    "- Comment as much as you can and use the resources in the README.md file\n",
    "- Happy learning!"
   ]
  },
  {
   "cell_type": "markdown",
   "metadata": {},
   "source": [
    "# Challenge 1 - Matrix Functions\n",
    "\n",
    "#### We would like to create our own matrix. To make life simple for us, we can represent matrices as a list of lists. For the sake of simplicity, we will assume that the maximum number of dimensions a matrix will have is 2.\n",
    "\n",
    "The most basic thing we would like to do with two matrices is to add them together. To add two matrices, we must perform a number of checks. The first check we would like to perform is whether the matrix is two dimesional. This is because we want to limit ourselves to two dimensional matrices to simplify our problem. In the cell below write a function that checks is a matrix is two dimesional. "
   ]
  },
  {
   "cell_type": "code",
   "execution_count": 130,
   "metadata": {},
   "outputs": [],
   "source": [
    "def twodim(mat):\n",
    "    # This function takes a list of lists and checks that it is of depth 2. \n",
    "    # If the depth is not 2, either return false or return informative errors that let the user know the depth of the list.\n",
    "    # Input: nested list\n",
    "    # Output: Boolean (or error)\n",
    "    # Sample Input: [[1,2,3], [4,5,6]]\n",
    "    # Sample Output: True\n",
    "    \n",
    "    # Your Code Here:\n",
    "    if len(mat) == 2:\n",
    "        return True\n",
    "    else:\n",
    "        return False\n",
    "    \n"
   ]
  },
  {
   "cell_type": "code",
   "execution_count": null,
   "metadata": {},
   "outputs": [],
   "source": [
    "twodim([[1,2],[1,2,3],[1,2,3]])"
   ]
  },
  {
   "cell_type": "markdown",
   "metadata": {},
   "source": [
    "# Bonus Challenge 1 - Write the function recursively\n",
    "\n",
    "Rewrite the `twodim` function using recursion. \n",
    "Read more about recursion [here](https://www.cs.utah.edu/~germain/PPS/Topics/recursion.html)\n",
    "\n",
    "Hint: stop your recursion when there are no more lists, this wil be the depth of your matrix. Check that this depth is equal to 2.\n",
    "Second Hint: At every level of the recursion, use the filter function to keep only the members of the list that are lists."
   ]
  },
  {
   "cell_type": "code",
   "execution_count": 131,
   "metadata": {},
   "outputs": [],
   "source": [
    "def twodimrecursive(mat):\n",
    "    # Your code here:\n",
    "    global contador\n",
    "    contador += 1\n",
    "    mat = list(filter(lambda x: isinstance(x, list), mat[1:]))  #istinance checa que x sea el tipo definido, en esta caso list\n",
    "    if len(mat) > 0:                                            #para usar filter necesitas una función dentro, generalmente un booleano para que funcione\n",
    "        twodimrecursive(mat)\n",
    "    if contador == 2:\n",
    "        return True\n",
    "    else:\n",
    "        return False\n",
    "    "
   ]
  },
  {
   "cell_type": "code",
   "execution_count": 50,
   "metadata": {},
   "outputs": [
    {
     "data": {
      "text/plain": [
       "True"
      ]
     },
     "execution_count": 50,
     "metadata": {},
     "output_type": "execute_result"
    }
   ],
   "source": [
    "contador = 0\n",
    "twodimrecursive([[1,2,3],[1,2]])"
   ]
  },
  {
   "cell_type": "markdown",
   "metadata": {},
   "source": [
    "#### Next, we will write a function that checks for the number of rows and columns of a matrix. \n",
    "\n",
    "Recall that the outer list will tell us the number of rows and the inner lists will tell us the number of columns. Make sure that all inner lists are of the same length."
   ]
  },
  {
   "cell_type": "code",
   "execution_count": 67,
   "metadata": {},
   "outputs": [
    {
     "name": "stdout",
     "output_type": "stream",
     "text": [
      "[[11 12 13 11]\n",
      " [21 22 23 24]\n",
      " [31 32 33 34]]\n",
      "(3, 4)\n"
     ]
    }
   ],
   "source": [
    "\n",
    "    # This function takes a list of lists and returns the size of the rows and the columns \n",
    "    # Input: list of lists\n",
    "    # Output: Tuple of rows and columns\n",
    "    #\n",
    "    # Sample input: [[1,2,3],[4,5,6]]\n",
    "    # Sample Output: (2, 3)\n",
    "    \n",
    "import numpy as np\n",
    "\n",
    "#Ejemplo manual sin función\n",
    "arr2D = np.array([[11 ,12,13,11], [21, 22, 23, 24], [31,32,33,34]])\n",
    "print(arr2D)\n",
    "\n",
    "# get number of rows in 2D numpy array\n",
    "numOfRows = np.size(arr2D, 0)\n",
    "#print(numOfRows)\n",
    "\n",
    "#get number of columns\n",
    "numOfCol = np.size(arr2D, 1)\n",
    "#print(numOfCol)\n",
    "\n",
    "#Producto final\n",
    "arr2D_final = (numOfRows, numOfCol)\n",
    "print(arr2D_final)   \n",
    "\n"
   ]
  },
  {
   "cell_type": "code",
   "execution_count": 132,
   "metadata": {},
   "outputs": [],
   "source": [
    "#Para convertirlo en función\n",
    "def rowcolum(mat):\n",
    "    arr2Dv = np.array(mat)\n",
    "    numRows = np.size(arr2Dv, 0)\n",
    "    numCols = np.size(arr2Dv, 1)\n",
    "    return (numRows, numCols)\n"
   ]
  },
  {
   "cell_type": "code",
   "execution_count": 133,
   "metadata": {},
   "outputs": [
    {
     "data": {
      "text/plain": [
       "(3, 4)"
      ]
     },
     "execution_count": 133,
     "metadata": {},
     "output_type": "execute_result"
    }
   ],
   "source": [
    "rowcolum([[1,2,3,4], [1,2,3,4],[1,2,3,4]])"
   ]
  },
  {
   "cell_type": "markdown",
   "metadata": {},
   "source": [
    "#### Our next step is to write a function that compares two matrices and tells us whether they are of equal size.\n",
    "\n",
    "In this function we will check whether the number of rows and number of columns is the same."
   ]
  },
  {
   "cell_type": "code",
   "execution_count": 138,
   "metadata": {},
   "outputs": [],
   "source": [
    "#Este compare es el correcto\n",
    "def compare(mat1, mat2):\n",
    "    \n",
    "    lista1=[]\n",
    "    lista2=[]\n",
    "    lista3=[]\n",
    "    lista4=[]\n",
    "   \n",
    "    col=len(mat1)\n",
    "    col2=len(mat2)\n",
    "    cuenta=0\n",
    "    cuenta2=0\n",
    "    \n",
    "    for x in mat1:\n",
    "        cuenta=len(x)\n",
    "        lista1.append(cuenta)        \n",
    "        \n",
    "    for y in mat2:\n",
    "        cuenta2=len(y)\n",
    "        lista2.append(cuenta2)   \n",
    "\n",
    "            \n",
    "    lista3.append(len(set(lista1)))\n",
    "    lista3.append(col) \n",
    "    lista4.append(len(set(lista2)))\n",
    "    lista4.append(col2) \n",
    "        \n",
    "    if lista3==lista4:\n",
    "        print(\"True\")\n",
    "    else:    \n",
    "\n",
    "        return False"
   ]
  },
  {
   "cell_type": "code",
   "execution_count": 92,
   "metadata": {},
   "outputs": [
    {
     "name": "stdout",
     "output_type": "stream",
     "text": [
      "True\n"
     ]
    }
   ],
   "source": [
    "#Estas NO SON PARTE DEL EJECICIO. SON PRUEBAS INTERMEDIAS INTERESANTES\n",
    "\n",
    "def compare1(mat1):\n",
    "    #matriz1 = np.array(mat1)\n",
    "    #matriz2 = np.array(mat2)\n",
    "    if len(mat1[0]) == len(mat1[1]):\n",
    "        return True\n",
    "    else:\n",
    "        return False\n",
    "    # This function takes a two lists of lists and checks whether they have the same number of rows and columns\n",
    "    # Input: two list of lists\n",
    "    # Output: True or False\n",
    "    #\n",
    "    # Sample input: [[1,2,3],[4,5,6]], [[7,8,9], [10,11,12]]\n",
    "    # Sample Output: True\n",
    "    \n",
    "    # Your code here:\n",
    "#def compare(mat1, mat2):   \n",
    "mat1 = [[1,2,3],[4,5,6]], [[7,8,9], [10,11,12]]\n",
    "#print(compare(mat1))\n",
    "\n",
    "\n",
    "#intento 2 de función\n",
    "def compare2(mat1b, mat2b):\n",
    "    mat1b = []\n",
    "    mat2b = []\n",
    "    if len(mat1b) == len(mat2b):\n",
    "        return True\n",
    "    else:\n",
    "        return False\n",
    "    \n",
    "mat1b = [[1,2,3],[4,5,6]]\n",
    "mat2b = [[7,8,9], [10,11,12]]\n",
    "\n",
    "#print(compare2(mat1b, mat2b))\n",
    "\n",
    "#Intento tres, que este sí define columnas y filas\n",
    "mat1c = [[1,2,3],[4,5,6]]\n",
    "mat2c = [[7,8,9], [10,11,12]]\n",
    "\n",
    "#len(mat1c) == len(mat2c)       #comprobaciones de filas\n",
    "#len(mat1c[0]) == len(mat2c[0]) #comprobaciones de columnas\n",
    "\n",
    "def compare3(mat1c, mat2c):\n",
    "    if len(mat1c) == len(mat2c) and len(mat1c[0]) == len(mat2c[0]):\n",
    "        return True\n",
    "    else:\n",
    "        False\n",
    "\n",
    "\n",
    "mat1c = [[1,2,3], [4,5,6]]\n",
    "mat2c = [[7,8,9], [10,11,12]] \n",
    "\n",
    "print(compare3(mat1c, mat2c))\n",
    "        \n",
    "#def compare3(mat1c, mat2c):\n",
    "#rows = len(group1)\n",
    "#columns = len(group1[0])\n",
    "\n"
   ]
  },
  {
   "cell_type": "code",
   "execution_count": 139,
   "metadata": {},
   "outputs": [
    {
     "name": "stdout",
     "output_type": "stream",
     "text": [
      "True\n"
     ]
    }
   ],
   "source": [
    "compare([[1,2,3],[4,5,6]], [[7,8,9], [10,11,12]])"
   ]
  },
  {
   "cell_type": "markdown",
   "metadata": {},
   "source": [
    "#### Now that we have all the tools we need, write a function that adds two matrices together. \n",
    "\n",
    "Remember that a matrix is represented as a list of lists. Therefore, we must add each element in the list. The plus symbol is used for concatenating two lists and not for adding every element in two lists."
   ]
  },
  {
   "cell_type": "code",
   "execution_count": null,
   "metadata": {},
   "outputs": [],
   "source": [
    "#Esta es el addition que sí funciona\n",
    "def addition3(mat1, mat2):\n",
    "    mat1 = np.array(mat1)\n",
    "    mat2 = np.array(mat2)\n",
    "    return mat1 + mat2\n",
    "\n",
    "addition3([[1,2,3],[4,5,6]], [[7,8,9], [10,11,12]])"
   ]
  },
  {
   "cell_type": "code",
   "execution_count": 35,
   "metadata": {},
   "outputs": [
    {
     "name": "stdout",
     "output_type": "stream",
     "text": [
      "[[8, 10, 12]]\n",
      "[[14, 16, 18]]\n"
     ]
    }
   ],
   "source": [
    "#Esto no importa, no es parte del ejercicio\n",
    "import numpy as np\n",
    "result = [[0,0,0], [0,0,0]]\n",
    "#print(result[-1][-1])\n",
    "\n",
    "#def addition(mat1, mat2):\n",
    "    # This function takes a two lists of lists and adds each cell together\n",
    "    # Input: two list of lists\n",
    "    # Output: one summed list of lists\n",
    "    #\n",
    "    # Sample input: [[1,2,3],[4,5,6]], [[7,8,9], [10,11,12]]\n",
    "    # Sample Output: [[8,10,12],[14,16,18]]\n",
    "    \n",
    "    # Your code here:\n",
    "    #result = [[0,0,0], [0,0,0]]\n",
    "    #for x in range(len(mat1)):                  #iterar las filas\n",
    "    #    for y in range(len(mat1[0])):           #iterar las columnas\n",
    "    #        result[x][y] = mat1[x][y] + mat2[x][y]\n",
    "    #for r in result:\n",
    "    #    result.append(r)\n",
    "    #    return r\n",
    "\n",
    "            \n",
    "            \n",
    "#Comprobación manual\n",
    "mat1 = [[1,2,3],[4,5,6]]\n",
    "mat2 = [[7,8,9], [10,11,12]]\n",
    "\n",
    "for x in range(len(mat1)):                  #iterar las filas\n",
    "    for y in range(len(mat1[0])):           #iterar las columnas\n",
    "        result[x][y] = mat1[x][y] + mat2[x][y]\n",
    "\n",
    "for r in result:\n",
    "    matrix_final = []\n",
    "    matrix_final.append(r)\n",
    "    print(matrix_final)\n",
    "    \n",
    "#https://www.programiz.com/python-programming/examples/add-matrix\n",
    "# iterate through rows\n",
    "#for i in range(len(X)):\n",
    "   # iterate through columns\n",
    "#   for j in range(len(X[0])):\n",
    "#       result[i][j] = X[i][j] + Y[i][j]        "
   ]
  },
  {
   "cell_type": "code",
   "execution_count": 37,
   "metadata": {},
   "outputs": [
    {
     "data": {
      "text/plain": [
       "[[8, 10, 12]]"
      ]
     },
     "execution_count": 37,
     "metadata": {},
     "output_type": "execute_result"
    }
   ],
   "source": [
    "#Esto tampoco importa\n",
    "\n",
    "#mat1 = [[1,2,3],[4,5,6]]\n",
    "#mat2 = [[7,8,9], [10,11,12]]\n",
    "#matrizsumada = [map(sum, zip(*t)) for t in zip(mat1, mat2)]\n",
    "#print(matrizsumada)\n",
    "def addition2(mat1, mat2):\n",
    "    result = [[0,0,0], [0,0,0]]\n",
    "    for x in range(len(mat1)):                  #iterar las filas\n",
    "        for y in range(len(mat1[0])):           #iterar las columnas\n",
    "            result[x][y] = mat1[x][y] + mat2[x][y]\n",
    "\n",
    "    for r in result:\n",
    "        matrix_final = []\n",
    "        matrix_final.append(r)\n",
    "        return matrix_final\n",
    "\n",
    "addition2([[1,2,3],[4,5,6]], [[7,8,9], [10,11,12]]) #sólo arroja una lista, está mal"
   ]
  },
  {
   "cell_type": "code",
   "execution_count": 141,
   "metadata": {},
   "outputs": [
    {
     "name": "stdout",
     "output_type": "stream",
     "text": [
      "[[ 8 10 12]\n",
      " [14 16 18]]\n"
     ]
    }
   ],
   "source": [
    "print(addition3([[1,2,3],[4,5,6]], [[7,8,9], [10,11,12]]))"
   ]
  },
  {
   "cell_type": "markdown",
   "metadata": {},
   "source": [
    "# Challenge 2 - Creating the Class\n",
    "\n",
    "In the cell below, you will be creating the class Matrix2D. Use the functions you have written above and tweak them according to the instructions in the comments. You got this!"
   ]
  },
  {
   "cell_type": "code",
   "execution_count": 116,
   "metadata": {},
   "outputs": [],
   "source": [
    "class Matrix2D:\n",
    "    # First, we will write the __init__ function. \n",
    "    # In this function, we will initialize rows and the columns using the matrix that we have passed to the class.\n",
    "    \n",
    "    def __init__(self, mat):             #aquí se define lo que quieres poner en la clase y que debes definir\n",
    "        # Assign mat to self.mat\n",
    "        # Assign rows and cols to self.rows and self.cols\n",
    "        # To find the rows and the cols, use the rowcolumn function and pass self.mat to the function.\n",
    "        # Since the rowcolumn function is now a member of the class, make sure to refer to the function as self.rowcolumn\n",
    "        \n",
    "        # Your code here:\n",
    "        self.mat = mat\n",
    "        self.cols = None\n",
    "        self.rows = None\n",
    "        #self.rowcolum(self, mat) \n",
    "\n",
    "            \n",
    "        #self.cols = len(self)\n",
    "        #self.rows = len(self[i])\n",
    "    \n",
    "    # Insert the twodim function here.\n",
    "    # The only change you need to make is that now we are passing self and mat to the function (make sure self is first).\n",
    "    \n",
    "    # Your code here:\n",
    "    def twodim(self, mat):\n",
    "        if len(mat) == 2:\n",
    "            return True\n",
    "        else:\n",
    "            return False\n",
    "        \n",
    "        #for elem in mat:\n",
    "        #    if(isinstance(elm[0], list)):\n",
    "        #        return False\n",
    "        #return True\n",
    "    \n",
    "    # Insert the rowcolumn function here.\n",
    "    # The changes you need to make: \n",
    "    # 1. The function now takes self and mat as arguments (make sure to pass self first).\n",
    "    # 2. Any reference to twodim will be changed to self.twodim since this function is a member of the class and takes self \n",
    "    \n",
    "    # Your code here:\n",
    "    def rowcolum(self, mat):\n",
    "        arr2Dv = np.array(mat)\n",
    "        numRows = np.size(arr2Dv, 0)\n",
    "        numCols = np.size(arr2Dv, 1)\n",
    "        return (numRows, numCols)\n",
    "\n",
    "    \n",
    "    #def rowcolumns(self, mat):\n",
    "    #    cols = len(mat)\n",
    "    #    rows = len(mat[0])\n",
    "    #    while len(cols) > len(rows):\n",
    "    #        for i in mat:\n",
    "    #            for j in mat:\n",
    "    #                if len(i) > len(j):\n",
    "    #                    row += 1\n",
    "    #                    return (cols, rows)\n",
    "  \n",
    "\n",
    "    # Insert the compare function here\n",
    "    # Add self as the first argument passed to the function\n",
    "    \n",
    "    # Your code here:\n",
    "    def compare(self, mat1, mat2):\n",
    "        lista1=[]\n",
    "        lista2=[]\n",
    "        lista3=[]\n",
    "        lista4=[]\n",
    "        \n",
    "        col=len(mat1)\n",
    "        col2=len(mat2)\n",
    "        cuenta=0\n",
    "        cuenta2=0\n",
    "    \n",
    "        for x in mat1:\n",
    "            cuenta=len(x)\n",
    "            lista1.append(cuenta)        \n",
    "        \n",
    "        for y in mat2:\n",
    "            cuenta2=len(y)\n",
    "            lista2.append(cuenta2)   \n",
    "\n",
    "            \n",
    "        lista3.append(len(set(lista1)))\n",
    "        lista3.append(col) \n",
    "        lista4.append(len(set(lista2)))\n",
    "        lista4.append(col2) \n",
    "        \n",
    "        if lista3==lista4:\n",
    "            return True\n",
    "        else:\n",
    "            return False\n",
    "\n",
    "\n",
    "    # Insert the addition function here\n",
    "    # This function now takes self and matrix (another matrix of the Matrix2D class)\n",
    "    # Change the compare function to self.compare \n",
    "    # Change any reference to mat1 and mat2 to self.mat and matrix.mat respectively\n",
    "    # Return your result as a Matrix2D(result). This will ensure that we return a new matrix and not a list of lists.\n",
    "    \n",
    "    # Your code here:\n",
    "    def addition(self, matrix):\n",
    "        return Matrix2D(np.add(self.mat,matrix.mat))"
   ]
  },
  {
   "cell_type": "code",
   "execution_count": 125,
   "metadata": {},
   "outputs": [],
   "source": [
    "#Otra forma\n",
    "\n",
    "class Matrix2D_2:\n",
    "    # First, we will write the __init__ function. \n",
    "    # In this function, we will initialize rows and the columns using the matrix that we have passed to the class.\n",
    "    \n",
    "    def __init__(self, mat):             #aquí se define lo que quieres poner en la clase y que debes definir\n",
    "        # Assign mat to self.mat\n",
    "        # Assign rows and cols to self.rows and self.cols\n",
    "        # To find the rows and the cols, use the rowcolumn function and pass self.mat to the function.\n",
    "        # Since the rowcolumn function is now a member of the class, make sure to refer to the function as self.rowcolumn\n",
    "        \n",
    "        # Your code here:\n",
    "        self.mat = mat\n",
    "        self.cols = None\n",
    "        self.rows = None\n",
    "        #self.rowcolum(self, mat) \n",
    "\n",
    "    \n",
    "    # Insert the twodim function here.\n",
    "    # The only change you need to make is that now we are passing self and mat to the function (make sure self is first).\n",
    "    \n",
    "    # Your code here:\n",
    "    def twodim(self):\n",
    "        if len(self.mat) == 2:\n",
    "            return True\n",
    "        else:\n",
    "            return False\n",
    "        \n",
    "        #for elem in mat:\n",
    "        #    if(isinstance(elm[0], list)):\n",
    "        #        return False\n",
    "        #return True\n",
    "    \n",
    "    # Insert the rowcolumn function here.\n",
    "    # The changes you need to make: \n",
    "    # 1. The function now takes self and mat as arguments (make sure to pass self first).\n",
    "    # 2. Any reference to twodim will be changed to self.twodim since this function is a member of the class and takes self \n",
    "    \n",
    "    # Your code here:\n",
    "    def rowcolum(self):\n",
    "        arr2Dv = np.array(self.mat)\n",
    "        numRows = np.size(arr2Dv, 0)\n",
    "        numCols = np.size(arr2Dv, 1)\n",
    "        return (numRows, numCols)\n",
    "\n",
    "    \n",
    "    #def rowcolumns(self, mat):\n",
    "    #    cols = len(mat)\n",
    "    #    rows = len(mat[0])\n",
    "    #    while len(cols) > len(rows):\n",
    "    #        for i in mat:\n",
    "    #            for j in mat:\n",
    "    #                if len(i) > len(j):\n",
    "    #                    row += 1\n",
    "    #                    return (cols, rows)\n",
    "  \n",
    "\n",
    "    # Insert the compare function here\n",
    "    # Add self as the first argument passed to the function\n",
    "    \n",
    "    # Your code here:\n",
    "    def compare(self, mat2):    #self contiene mat1, sólo se tiene que igresar mat2\n",
    "        lista1=[]\n",
    "        lista2=[]\n",
    "        lista3=[]\n",
    "        lista4=[]\n",
    "        \n",
    "        col=len(self.mat)\n",
    "        col2=len(mat2)\n",
    "        cuenta=0\n",
    "        cuenta2=0\n",
    "    \n",
    "        for x in self.mat:\n",
    "            cuenta=len(x)\n",
    "            lista1.append(cuenta)        \n",
    "        \n",
    "        for y in mat2:\n",
    "            cuenta2=len(y)\n",
    "            lista2.append(cuenta2)   \n",
    "\n",
    "            \n",
    "        lista3.append(len(set(lista1)))\n",
    "        lista3.append(col) \n",
    "        lista4.append(len(set(lista2)))\n",
    "        lista4.append(col2) \n",
    "        \n",
    "        if lista3==lista4:\n",
    "            return True\n",
    "        else:\n",
    "            return False\n",
    "\n",
    "\n",
    "    # Insert the addition function here\n",
    "    # This function now takes self and matrix (another matrix of the Matrix2D class)\n",
    "    # Change the compare function to self.compare \n",
    "    # Change any reference to mat1 and mat2 to self.mat and matrix.mat respectively\n",
    "    # Return your result as a Matrix2D(result). This will ensure that we return a new matrix and not a list of lists.\n",
    "    \n",
    "    # Your code here:\n",
    "    def addition(self, matrix):\n",
    "        return np.add(self.mat,matrix)"
   ]
  },
  {
   "cell_type": "code",
   "execution_count": 121,
   "metadata": {},
   "outputs": [
    {
     "data": {
      "text/plain": [
       "array([[ 8, 10, 12],\n",
       "       [14, 16, 18]])"
      ]
     },
     "execution_count": 121,
     "metadata": {},
     "output_type": "execute_result"
    }
   ],
   "source": [
    "Matrix2D_2([[1,2,3],[4,5,6]]).addition(Matrix2D_2([[7,8,9],[10,11,12]])).mat"
   ]
  },
  {
   "cell_type": "code",
   "execution_count": 129,
   "metadata": {},
   "outputs": [
    {
     "name": "stdout",
     "output_type": "stream",
     "text": [
      "[[ 8 10 12]\n",
      " [14 16 18]]\n",
      "[[ 8 10 12]\n",
      " [14 16 18]]\n"
     ]
    }
   ],
   "source": [
    "matriz1 = Matrix2D_2([[1,2,3],[4,5,6]])\n",
    "matriz2 = [[7,8,9],[10,11,12]]              #esto ya es un array\n",
    "matriz3 = Matrix2D_2([[7,8,9],[10,11,12]])  #esto es un objeto distinto, por lo tanto hay que declarlo como matriz\n",
    "\n",
    "print(matriz1.addition(matriz2))\n",
    "print(matriz1.addition(matriz3.mat))"
   ]
  },
  {
   "cell_type": "code",
   "execution_count": 114,
   "metadata": {},
   "outputs": [
    {
     "data": {
      "text/plain": [
       "array([[ 8, 10, 12],\n",
       "       [14, 16, 18]])"
      ]
     },
     "execution_count": 114,
     "metadata": {},
     "output_type": "execute_result"
    }
   ],
   "source": [
    "Matrix2D([[1,2,3],[4,5,6]]).addition(Matrix2D([[7,8,9],[10,11,12]])).mat"
   ]
  },
  {
   "cell_type": "markdown",
   "metadata": {},
   "source": [
    "# Bonus Challenge 2 - Transpose Function\n",
    "\n",
    "#### Write a function that transposes the matrix and add it to your class.\n",
    "\n",
    "You can read more about the transpose of a matrix [here](https://en.wikipedia.org/wiki/Transpose).\n",
    "\n",
    "Hint: Use the zip function. Read about it [here](https://docs.python.org/3.3/library/functions.html#zip)\n",
    "\n",
    "Second Hint: Read about the asterisk in Python [here](https://docs.python.org/3/reference/expressions.html#expression-lists)"
   ]
  },
  {
   "cell_type": "code",
   "execution_count": null,
   "metadata": {},
   "outputs": [],
   "source": [
    "def transpose(mat):\n",
    "    # This function takes a list of lists and returns a transposed list of lists.\n",
    "    # Input: list of lists\n",
    "    # Output: list of lists\n",
    "    \n",
    "    # Sample Input: [[1,2,3],[4,5,6]]\n",
    "    # Sample Output: [[1,4], [2,5], [3,6]]\n",
    "    \n",
    "    # Your code here:\n",
    "    "
   ]
  },
  {
   "cell_type": "code",
   "execution_count": null,
   "metadata": {},
   "outputs": [],
   "source": [
    "transpose([[1,2,3],[4,5,6]])"
   ]
  },
  {
   "cell_type": "code",
   "execution_count": null,
   "metadata": {},
   "outputs": [],
   "source": []
  }
 ],
 "metadata": {
  "kernelspec": {
   "display_name": "Python 3",
   "language": "python",
   "name": "python3"
  },
  "language_info": {
   "codemirror_mode": {
    "name": "ipython",
    "version": 3
   },
   "file_extension": ".py",
   "mimetype": "text/x-python",
   "name": "python",
   "nbconvert_exporter": "python",
   "pygments_lexer": "ipython3",
   "version": "3.7.4"
  }
 },
 "nbformat": 4,
 "nbformat_minor": 2
}
